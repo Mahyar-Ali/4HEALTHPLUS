{
  "nbformat": 4,
  "nbformat_minor": 0,
  "metadata": {
    "colab": {
      "name": "Untitled12.ipynb",
      "provenance": [],
      "collapsed_sections": []
    },
    "kernelspec": {
      "name": "python3",
      "display_name": "Python 3"
    }
  },
  "cells": [
    {
      "cell_type": "markdown",
      "metadata": {
        "id": "uJ_P6FXb5xWC",
        "colab_type": "text"
      },
      "source": [
        "# Web Scraping"
      ]
    },
    {
      "cell_type": "code",
      "metadata": {
        "id": "cJfEAL8O51RS",
        "colab_type": "code",
        "colab": {}
      },
      "source": [
        "!pip install beautifulsoup4\n",
        "!pip install requests"
      ],
      "execution_count": null,
      "outputs": []
    },
    {
      "cell_type": "code",
      "metadata": {
        "id": "dDaE96W31ToU",
        "colab_type": "code",
        "colab": {}
      },
      "source": [
        "!pip install -r requirements.txt"
      ],
      "execution_count": null,
      "outputs": []
    },
    {
      "cell_type": "code",
      "metadata": {
        "id": "Fq6dYBuenkbk",
        "colab_type": "code",
        "colab": {}
      },
      "source": [
        "tokens = [{'result_not_found':\"[SPECIALTOKEN][NO MATCHING TITLE]\",\n",
        "          'search_not_found':\"[SPECIALTOKEN][NO RESULTS FOUND][SEARCH ERROR]\",\n",
        "          'article_not_found':\"[SPECIALTOKEN][ARTICLE NOT FOUND][ARTICLE READ ERROR]\",\n",
        "          'unexpected_error':\"[SPECIALTOKEN][UNEXPECTED ERROR][INFO IN DOC]\",\n",
        "          'article_found':\"[SPECIALTOKEN][ARTICLE FOUND]\"}]\n",
        "\n",
        "\n",
        "path = \"/content/Summarizer_v2/web_scrapers/nutrition_topics.txt\""
      ],
      "execution_count": 6,
      "outputs": []
    },
    {
      "cell_type": "code",
      "metadata": {
        "id": "Yy7ZvX_E1q78",
        "colab_type": "code",
        "colab": {}
      },
      "source": [
        "'''\n",
        "INTERESTS:-\n",
        "['nutritions', 'diet' , 'supplements','mental-health',\n",
        " 'fitness','food','womens-health','skin-care','parenting','health-news']\n",
        "\n",
        " DISEASE_GENERAL_SEARCH:-\n",
        " \"Articles on any type of disease\"\n",
        "'''\n",
        "\n",
        "# {'INTEREST':type(\"STRING\")|(S),'DISEASE_GENERAL_SEARCH':type(\"STRRING\")|(S)}"
      ],
      "execution_count": null,
      "outputs": []
    },
    {
      "cell_type": "code",
      "metadata": {
        "id": "KGaNdnVdasyX",
        "colab_type": "code",
        "colab": {}
      },
      "source": [
        "nutrition_topics_file = '/content/Summarizer_v2/web_scrapers/nutrition_topics.txt'\n",
        "titles = ''\n",
        "with open (nutrition_topics_file,'r') as text:\n",
        "    titles = text.read()\n",
        "titles = titles.split('\\n')"
      ],
      "execution_count": 8,
      "outputs": []
    },
    {
      "cell_type": "code",
      "metadata": {
        "id": "o2AEc5V_zMa8",
        "colab_type": "code",
        "colab": {}
      },
      "source": [
        "import Select_Site as ss"
      ],
      "execution_count": 15,
      "outputs": []
    },
    {
      "cell_type": "code",
      "metadata": {
        "id": "07hXzOyaZ-_I",
        "colab_type": "code",
        "colab": {}
      },
      "source": [
        "token,doc,title = ss.select_website({\"INTEREST\":None,\"DISEASE_GENERAL_SEARCH\":\"flu\"},[],[],titles,True)"
      ],
      "execution_count": null,
      "outputs": []
    },
    {
      "cell_type": "code",
      "metadata": {
        "id": "8ksrq7YAbNAj",
        "colab_type": "code",
        "colab": {
          "base_uri": "https://localhost:8080/",
          "height": 36
        },
        "outputId": "4116ad84-3921-4ec6-b012-d262eacb59c9"
      },
      "source": [
        "print(token)"
      ],
      "execution_count": 11,
      "outputs": [
        {
          "output_type": "stream",
          "text": [
            "[SPECIALTOKEN][ARTICLE FOUND]\n"
          ],
          "name": "stdout"
        }
      ]
    },
    {
      "cell_type": "markdown",
      "metadata": {
        "id": "b8Cx7btIM96R",
        "colab_type": "text"
      },
      "source": [
        "# Machine Learning"
      ]
    },
    {
      "cell_type": "code",
      "metadata": {
        "id": "r07rxJ81-IeG",
        "colab_type": "code",
        "colab": {}
      },
      "source": [
        "import Make_Summary as m_s\n",
        "summary,predictor,args =m_s.make_summary(doc,None,None,None)"
      ],
      "execution_count": null,
      "outputs": []
    },
    {
      "cell_type": "code",
      "metadata": {
        "id": "n2mob5c5gMBa",
        "colab_type": "code",
        "colab": {
          "base_uri": "https://localhost:8080/",
          "height": 132
        },
        "outputId": "df5ec85f-f94c-4bb8-c259-b416f9e6565f"
      },
      "source": [
        "print(title)\n",
        "if (\"Become a functional nutrition coach\" in summary):\n",
        "  summary = summary.replace(\"Become a functional nutrition coach\",'')\n",
        "print(summary)"
      ],
      "execution_count": 14,
      "outputs": [
        {
          "output_type": "stream",
          "text": [
            "Leg pain when you walk? Don’t ignore it\n",
            "People with pad have fatty deposits in arteries outside the heart most often in their legs. Pain occurs because these deposits block blood flow to the muscles impairing their ability to work properly.\n",
            "Some people just experience weakness without cramping or pain but it follows the same pattern : worsening with exercise and easing with rest. Having pad increases your risk of other cardiovascular problems.\n",
            "One of the problems with pad is that people are taught when they have pain to avoid it, says dr. pradhan. In addition to lifestyle changes your doctor may also prescribe a medication to treat pad.\n",
            "\n"
          ],
          "name": "stdout"
        }
      ]
    },
    {
      "cell_type": "markdown",
      "metadata": {
        "id": "E_Y0Q2jYcYft",
        "colab_type": "text"
      },
      "source": [
        "#Pre"
      ]
    },
    {
      "cell_type": "code",
      "metadata": {
        "id": "q59Wt9yacZt-",
        "colab_type": "code",
        "colab": {
          "base_uri": "https://localhost:8080/",
          "height": 1000
        },
        "outputId": "74bd716c-dda6-48b1-dd03-5edcfd963164"
      },
      "source": [
        "!cp -avr \"/content/Summarizer_v2\"   \"/content/drive/My Drive/Summarizer/Summarizer_v2\"  "
      ],
      "execution_count": 19,
      "outputs": [
        {
          "output_type": "stream",
          "text": [
            "'/content/Summarizer_v2' -> '/content/drive/My Drive/Summarizer/Summarizer_v2'\n",
            "'/content/Summarizer_v2/requirements.txt' -> '/content/drive/My Drive/Summarizer/Summarizer_v2/requirements.txt'\n",
            "'/content/Summarizer_v2/train_abstractive.py' -> '/content/drive/My Drive/Summarizer/Summarizer_v2/train_abstractive.py'\n",
            "'/content/Summarizer_v2/helper' -> '/content/drive/My Drive/Summarizer/Summarizer_v2/helper'\n",
            "'/content/Summarizer_v2/helper/.ipynb_checkpoints' -> '/content/drive/My Drive/Summarizer/Summarizer_v2/helper/.ipynb_checkpoints'\n",
            "'/content/Summarizer_v2/helper/translate' -> '/content/drive/My Drive/Summarizer/Summarizer_v2/helper/translate'\n",
            "'/content/Summarizer_v2/helper/translate/penalties.py' -> '/content/drive/My Drive/Summarizer/Summarizer_v2/helper/translate/penalties.py'\n",
            "'/content/Summarizer_v2/helper/translate/__init__.py' -> '/content/drive/My Drive/Summarizer/Summarizer_v2/helper/translate/__init__.py'\n",
            "'/content/Summarizer_v2/helper/translate/.ipynb_checkpoints' -> '/content/drive/My Drive/Summarizer/Summarizer_v2/helper/translate/.ipynb_checkpoints'\n",
            "'/content/Summarizer_v2/helper/translate/beam.py' -> '/content/drive/My Drive/Summarizer/Summarizer_v2/helper/translate/beam.py'\n",
            "'/content/Summarizer_v2/helper/translate/__pycache__' -> '/content/drive/My Drive/Summarizer/Summarizer_v2/helper/translate/__pycache__'\n",
            "'/content/Summarizer_v2/helper/translate/__pycache__/penalties.cpython-36.pyc' -> '/content/drive/My Drive/Summarizer/Summarizer_v2/helper/translate/__pycache__/penalties.cpython-36.pyc'\n",
            "'/content/Summarizer_v2/helper/translate/__pycache__/beam.cpython-36.pyc' -> '/content/drive/My Drive/Summarizer/Summarizer_v2/helper/translate/__pycache__/beam.cpython-36.pyc'\n",
            "'/content/Summarizer_v2/helper/translate/__pycache__/__init__.cpython-36.pyc' -> '/content/drive/My Drive/Summarizer/Summarizer_v2/helper/translate/__pycache__/__init__.cpython-36.pyc'\n",
            "'/content/Summarizer_v2/helper/prepro' -> '/content/drive/My Drive/Summarizer/Summarizer_v2/helper/prepro'\n",
            "'/content/Summarizer_v2/helper/prepro/utils.py' -> '/content/drive/My Drive/Summarizer/Summarizer_v2/helper/prepro/utils.py'\n",
            "'/content/Summarizer_v2/helper/prepro/smart_common_words.txt' -> '/content/drive/My Drive/Summarizer/Summarizer_v2/helper/prepro/smart_common_words.txt'\n",
            "'/content/Summarizer_v2/helper/prepro/__init__.py' -> '/content/drive/My Drive/Summarizer/Summarizer_v2/helper/prepro/__init__.py'\n",
            "'/content/Summarizer_v2/helper/prepro/data_builder.py' -> '/content/drive/My Drive/Summarizer/Summarizer_v2/helper/prepro/data_builder.py'\n",
            "'/content/Summarizer_v2/helper/prepro/__pycache__' -> '/content/drive/My Drive/Summarizer/Summarizer_v2/helper/prepro/__pycache__'\n",
            "'/content/Summarizer_v2/helper/prepro/__pycache__/__init__.cpython-36.pyc' -> '/content/drive/My Drive/Summarizer/Summarizer_v2/helper/prepro/__pycache__/__init__.cpython-36.pyc'\n",
            "'/content/Summarizer_v2/helper/prepro/__pycache__/data_builder.cpython-36.pyc' -> '/content/drive/My Drive/Summarizer/Summarizer_v2/helper/prepro/__pycache__/data_builder.cpython-36.pyc'\n",
            "'/content/Summarizer_v2/helper/prepro/__pycache__/utils.cpython-36.pyc' -> '/content/drive/My Drive/Summarizer/Summarizer_v2/helper/prepro/__pycache__/utils.cpython-36.pyc'\n",
            "'/content/Summarizer_v2/helper/others' -> '/content/drive/My Drive/Summarizer/Summarizer_v2/helper/others'\n",
            "'/content/Summarizer_v2/helper/others/logging.py' -> '/content/drive/My Drive/Summarizer/Summarizer_v2/helper/others/logging.py'\n",
            "'/content/Summarizer_v2/helper/others/tokenization.py' -> '/content/drive/My Drive/Summarizer/Summarizer_v2/helper/others/tokenization.py'\n",
            "'/content/Summarizer_v2/helper/others/__init__.py' -> '/content/drive/My Drive/Summarizer/Summarizer_v2/helper/others/__init__.py'\n",
            "'/content/Summarizer_v2/helper/others/.ipynb_checkpoints' -> '/content/drive/My Drive/Summarizer/Summarizer_v2/helper/others/.ipynb_checkpoints'\n",
            "'/content/Summarizer_v2/helper/others/pyrouge.py' -> '/content/drive/My Drive/Summarizer/Summarizer_v2/helper/others/pyrouge.py'\n",
            "'/content/Summarizer_v2/helper/others/utils.py' -> '/content/drive/My Drive/Summarizer/Summarizer_v2/helper/others/utils.py'\n",
            "'/content/Summarizer_v2/helper/others/__pycache__' -> '/content/drive/My Drive/Summarizer/Summarizer_v2/helper/others/__pycache__'\n",
            "'/content/Summarizer_v2/helper/others/__pycache__/pyrouge.cpython-36.pyc' -> '/content/drive/My Drive/Summarizer/Summarizer_v2/helper/others/__pycache__/pyrouge.cpython-36.pyc'\n",
            "'/content/Summarizer_v2/helper/others/__pycache__/__init__.cpython-36.pyc' -> '/content/drive/My Drive/Summarizer/Summarizer_v2/helper/others/__pycache__/__init__.cpython-36.pyc'\n",
            "'/content/Summarizer_v2/helper/others/__pycache__/logging.cpython-36.pyc' -> '/content/drive/My Drive/Summarizer/Summarizer_v2/helper/others/__pycache__/logging.cpython-36.pyc'\n",
            "'/content/Summarizer_v2/helper/others/__pycache__/tokenization.cpython-36.pyc' -> '/content/drive/My Drive/Summarizer/Summarizer_v2/helper/others/__pycache__/tokenization.cpython-36.pyc'\n",
            "'/content/Summarizer_v2/helper/others/__pycache__/utils.cpython-36.pyc' -> '/content/drive/My Drive/Summarizer/Summarizer_v2/helper/others/__pycache__/utils.cpython-36.pyc'\n",
            "'/content/Summarizer_v2/helper/distributed.py' -> '/content/drive/My Drive/Summarizer/Summarizer_v2/helper/distributed.py'\n",
            "'/content/Summarizer_v2/helper/__pycache__' -> '/content/drive/My Drive/Summarizer/Summarizer_v2/helper/__pycache__'\n",
            "'/content/Summarizer_v2/helper/__pycache__/utils.cpython-36.pyc' -> '/content/drive/My Drive/Summarizer/Summarizer_v2/helper/__pycache__/utils.cpython-36.pyc'\n",
            "'/content/Summarizer_v2/helper/__pycache__/beam.cpython-36.pyc' -> '/content/drive/My Drive/Summarizer/Summarizer_v2/helper/__pycache__/beam.cpython-36.pyc'\n",
            "'/content/Summarizer_v2/helper/__pycache__/distributed.cpython-36.pyc' -> '/content/drive/My Drive/Summarizer/Summarizer_v2/helper/__pycache__/distributed.cpython-36.pyc'\n",
            "'/content/Summarizer_v2/models' -> '/content/drive/My Drive/Summarizer/Summarizer_v2/models'\n",
            "'/content/Summarizer_v2/models/encoder.py' -> '/content/drive/My Drive/Summarizer/Summarizer_v2/models/encoder.py'\n",
            "'/content/Summarizer_v2/models/optimizers.py' -> '/content/drive/My Drive/Summarizer/Summarizer_v2/models/optimizers.py'\n",
            "'/content/Summarizer_v2/models/adam.py' -> '/content/drive/My Drive/Summarizer/Summarizer_v2/models/adam.py'\n",
            "'/content/Summarizer_v2/models/loss.py' -> '/content/drive/My Drive/Summarizer/Summarizer_v2/models/loss.py'\n",
            "'/content/Summarizer_v2/models/neural.py' -> '/content/drive/My Drive/Summarizer/Summarizer_v2/models/neural.py'\n",
            "'/content/Summarizer_v2/models/decoder.py' -> '/content/drive/My Drive/Summarizer/Summarizer_v2/models/decoder.py'\n",
            "'/content/Summarizer_v2/models/__init__.py' -> '/content/drive/My Drive/Summarizer/Summarizer_v2/models/__init__.py'\n",
            "'/content/Summarizer_v2/models/model_builder.py' -> '/content/drive/My Drive/Summarizer/Summarizer_v2/models/model_builder.py'\n",
            "'/content/Summarizer_v2/models/data_loader.py' -> '/content/drive/My Drive/Summarizer/Summarizer_v2/models/data_loader.py'\n",
            "'/content/Summarizer_v2/models/reporter_ext.py' -> '/content/drive/My Drive/Summarizer/Summarizer_v2/models/reporter_ext.py'\n",
            "'/content/Summarizer_v2/models/trainer.py' -> '/content/drive/My Drive/Summarizer/Summarizer_v2/models/trainer.py'\n",
            "'/content/Summarizer_v2/models/trainer_ext.py' -> '/content/drive/My Drive/Summarizer/Summarizer_v2/models/trainer_ext.py'\n",
            "'/content/Summarizer_v2/models/.ipynb_checkpoints' -> '/content/drive/My Drive/Summarizer/Summarizer_v2/models/.ipynb_checkpoints'\n",
            "'/content/Summarizer_v2/models/reporter.py' -> '/content/drive/My Drive/Summarizer/Summarizer_v2/models/reporter.py'\n",
            "'/content/Summarizer_v2/models/predictor.py' -> '/content/drive/My Drive/Summarizer/Summarizer_v2/models/predictor.py'\n",
            "'/content/Summarizer_v2/models/__pycache__' -> '/content/drive/My Drive/Summarizer/Summarizer_v2/models/__pycache__'\n",
            "'/content/Summarizer_v2/models/__pycache__/__init__.cpython-36.pyc' -> '/content/drive/My Drive/Summarizer/Summarizer_v2/models/__pycache__/__init__.cpython-36.pyc'\n",
            "'/content/Summarizer_v2/models/__pycache__/optimizers.cpython-36.pyc' -> '/content/drive/My Drive/Summarizer/Summarizer_v2/models/__pycache__/optimizers.cpython-36.pyc'\n",
            "'/content/Summarizer_v2/models/__pycache__/decoder.cpython-36.pyc' -> '/content/drive/My Drive/Summarizer/Summarizer_v2/models/__pycache__/decoder.cpython-36.pyc'\n",
            "'/content/Summarizer_v2/models/__pycache__/neural.cpython-36.pyc' -> '/content/drive/My Drive/Summarizer/Summarizer_v2/models/__pycache__/neural.cpython-36.pyc'\n",
            "'/content/Summarizer_v2/models/__pycache__/model_builder.cpython-36.pyc' -> '/content/drive/My Drive/Summarizer/Summarizer_v2/models/__pycache__/model_builder.cpython-36.pyc'\n",
            "'/content/Summarizer_v2/models/__pycache__/encoder.cpython-36.pyc' -> '/content/drive/My Drive/Summarizer/Summarizer_v2/models/__pycache__/encoder.cpython-36.pyc'\n",
            "'/content/Summarizer_v2/models/__pycache__/data_loader.cpython-36.pyc' -> '/content/drive/My Drive/Summarizer/Summarizer_v2/models/__pycache__/data_loader.cpython-36.pyc'\n",
            "'/content/Summarizer_v2/models/__pycache__/loss.cpython-36.pyc' -> '/content/drive/My Drive/Summarizer/Summarizer_v2/models/__pycache__/loss.cpython-36.pyc'\n",
            "'/content/Summarizer_v2/models/__pycache__/reporter.cpython-36.pyc' -> '/content/drive/My Drive/Summarizer/Summarizer_v2/models/__pycache__/reporter.cpython-36.pyc'\n",
            "'/content/Summarizer_v2/models/__pycache__/trainer.cpython-36.pyc' -> '/content/drive/My Drive/Summarizer/Summarizer_v2/models/__pycache__/trainer.cpython-36.pyc'\n",
            "'/content/Summarizer_v2/models/__pycache__/predictor.cpython-36.pyc' -> '/content/drive/My Drive/Summarizer/Summarizer_v2/models/__pycache__/predictor.cpython-36.pyc'\n",
            "'/content/Summarizer_v2/out_flush' -> '/content/drive/My Drive/Summarizer/Summarizer_v2/out_flush'\n",
            "'/content/Summarizer_v2/out_flush/cnndm.test.0.bert.pt' -> '/content/drive/My Drive/Summarizer/Summarizer_v2/out_flush/cnndm.test.0.bert.pt'\n",
            "'/content/Summarizer_v2/out_flush/cmndm.0.gold' -> '/content/drive/My Drive/Summarizer/Summarizer_v2/out_flush/cmndm.0.gold'\n",
            "'/content/Summarizer_v2/out_flush/cmndm.0.candidate' -> '/content/drive/My Drive/Summarizer/Summarizer_v2/out_flush/cmndm.0.candidate'\n",
            "'/content/Summarizer_v2/out_flush/cmndm.0.raw_src' -> '/content/drive/My Drive/Summarizer/Summarizer_v2/out_flush/cmndm.0.raw_src'\n",
            "'/content/Summarizer_v2/.ipynb_checkpoints' -> '/content/drive/My Drive/Summarizer/Summarizer_v2/.ipynb_checkpoints'\n",
            "'/content/Summarizer_v2/build_predictor.py' -> '/content/drive/My Drive/Summarizer/Summarizer_v2/build_predictor.py'\n",
            "'/content/Summarizer_v2/parser.py' -> '/content/drive/My Drive/Summarizer/Summarizer_v2/parser.py'\n",
            "'/content/Summarizer_v2/prd.py' -> '/content/drive/My Drive/Summarizer/Summarizer_v2/prd.py'\n",
            "'/content/Summarizer_v2/Model_Builder.py' -> '/content/drive/My Drive/Summarizer/Summarizer_v2/Model_Builder.py'\n",
            "'/content/Summarizer_v2/summarizer.py' -> '/content/drive/My Drive/Summarizer/Summarizer_v2/summarizer.py'\n",
            "'/content/Summarizer_v2/build_summarizer.py' -> '/content/drive/My Drive/Summarizer/Summarizer_v2/build_summarizer.py'\n",
            "'/content/Summarizer_v2/Make_Summary.py' -> '/content/drive/My Drive/Summarizer/Summarizer_v2/Make_Summary.py'\n",
            "'/content/Summarizer_v2/__pycache__' -> '/content/drive/My Drive/Summarizer/Summarizer_v2/__pycache__'\n",
            "'/content/Summarizer_v2/__pycache__/build_predictor.cpython-36.pyc' -> '/content/drive/My Drive/Summarizer/Summarizer_v2/__pycache__/build_predictor.cpython-36.pyc'\n",
            "'/content/Summarizer_v2/__pycache__/parser.cpython-36.pyc' -> '/content/drive/My Drive/Summarizer/Summarizer_v2/__pycache__/parser.cpython-36.pyc'\n",
            "'/content/Summarizer_v2/__pycache__/r_predictor.cpython-36.pyc' -> '/content/drive/My Drive/Summarizer/Summarizer_v2/__pycache__/r_predictor.cpython-36.pyc'\n",
            "'/content/Summarizer_v2/__pycache__/predictor_build.cpython-36.pyc' -> '/content/drive/My Drive/Summarizer/Summarizer_v2/__pycache__/predictor_build.cpython-36.pyc'\n",
            "'/content/Summarizer_v2/__pycache__/prd.cpython-36.pyc' -> '/content/drive/My Drive/Summarizer/Summarizer_v2/__pycache__/prd.cpython-36.pyc'\n",
            "'/content/Summarizer_v2/__pycache__/train_abstractive.cpython-36.pyc' -> '/content/drive/My Drive/Summarizer/Summarizer_v2/__pycache__/train_abstractive.cpython-36.pyc'\n",
            "'/content/Summarizer_v2/__pycache__/Summarizer.cpython-36.pyc' -> '/content/drive/My Drive/Summarizer/Summarizer_v2/__pycache__/Summarizer.cpython-36.pyc'\n",
            "'/content/Summarizer_v2/__pycache__/summarizer.cpython-36.pyc' -> '/content/drive/My Drive/Summarizer/Summarizer_v2/__pycache__/summarizer.cpython-36.pyc'\n",
            "'/content/Summarizer_v2/__pycache__/Model_Builder.cpython-36.pyc' -> '/content/drive/My Drive/Summarizer/Summarizer_v2/__pycache__/Model_Builder.cpython-36.pyc'\n",
            "'/content/Summarizer_v2/__pycache__/make_summary.cpython-36.pyc' -> '/content/drive/My Drive/Summarizer/Summarizer_v2/__pycache__/make_summary.cpython-36.pyc'\n",
            "'/content/Summarizer_v2/__pycache__/build_summarizer.cpython-36.pyc' -> '/content/drive/My Drive/Summarizer/Summarizer_v2/__pycache__/build_summarizer.cpython-36.pyc'\n",
            "'/content/Summarizer_v2/__pycache__/Make_Summary.cpython-36.pyc' -> '/content/drive/My Drive/Summarizer/Summarizer_v2/__pycache__/Make_Summary.cpython-36.pyc'\n",
            "'/content/Summarizer_v2/__pycache__/Select_Site.cpython-36.pyc' -> '/content/drive/My Drive/Summarizer/Summarizer_v2/__pycache__/Select_Site.cpython-36.pyc'\n",
            "'/content/Summarizer_v2/web_scrapers' -> '/content/drive/My Drive/Summarizer/Summarizer_v2/web_scrapers'\n",
            "'/content/Summarizer_v2/web_scrapers/.ipynb_checkpoints' -> '/content/drive/My Drive/Summarizer/Summarizer_v2/web_scrapers/.ipynb_checkpoints'\n",
            "'/content/Summarizer_v2/web_scrapers/nutrition_topics.txt' -> '/content/drive/My Drive/Summarizer/Summarizer_v2/web_scrapers/nutrition_topics.txt'\n",
            "'/content/Summarizer_v2/web_scrapers/mbg_health_topics.txt' -> '/content/drive/My Drive/Summarizer/Summarizer_v2/web_scrapers/mbg_health_topics.txt'\n",
            "'/content/Summarizer_v2/web_scrapers/e_nutrition.py' -> '/content/drive/My Drive/Summarizer/Summarizer_v2/web_scrapers/e_nutrition.py'\n",
            "'/content/Summarizer_v2/web_scrapers/h_news.py' -> '/content/drive/My Drive/Summarizer/Summarizer_v2/web_scrapers/h_news.py'\n",
            "'/content/Summarizer_v2/web_scrapers/__pycache__' -> '/content/drive/My Drive/Summarizer/Summarizer_v2/web_scrapers/__pycache__'\n",
            "'/content/Summarizer_v2/web_scrapers/__pycache__/h_harward.cpython-36.pyc' -> '/content/drive/My Drive/Summarizer/Summarizer_v2/web_scrapers/__pycache__/h_harward.cpython-36.pyc'\n",
            "'/content/Summarizer_v2/web_scrapers/__pycache__/health_harward.cpython-36.pyc' -> '/content/drive/My Drive/Summarizer/Summarizer_v2/web_scrapers/__pycache__/health_harward.cpython-36.pyc'\n",
            "'/content/Summarizer_v2/web_scrapers/__pycache__/health_harward_web.cpython-36.pyc' -> '/content/drive/My Drive/Summarizer/Summarizer_v2/web_scrapers/__pycache__/health_harward_web.cpython-36.pyc'\n",
            "'/content/Summarizer_v2/web_scrapers/__pycache__/harward_h.cpython-36.pyc' -> '/content/drive/My Drive/Summarizer/Summarizer_v2/web_scrapers/__pycache__/harward_h.cpython-36.pyc'\n",
            "'/content/Summarizer_v2/web_scrapers/__pycache__/mbg_health.cpython-36.pyc' -> '/content/drive/My Drive/Summarizer/Summarizer_v2/web_scrapers/__pycache__/mbg_health.cpython-36.pyc'\n",
            "'/content/Summarizer_v2/web_scrapers/__pycache__/e_nutrition.cpython-36.pyc' -> '/content/drive/My Drive/Summarizer/Summarizer_v2/web_scrapers/__pycache__/e_nutrition.cpython-36.pyc'\n",
            "'/content/Summarizer_v2/web_scrapers/__pycache__/h_news.cpython-36.pyc' -> '/content/drive/My Drive/Summarizer/Summarizer_v2/web_scrapers/__pycache__/h_news.cpython-36.pyc'\n",
            "'/content/Summarizer_v2/web_scrapers/mbg_health.py' -> '/content/drive/My Drive/Summarizer/Summarizer_v2/web_scrapers/mbg_health.py'\n",
            "'/content/Summarizer_v2/web_scrapers/h_harward.py' -> '/content/drive/My Drive/Summarizer/Summarizer_v2/web_scrapers/h_harward.py'\n",
            "'/content/Summarizer_v2/model_step_148000.pt' -> '/content/drive/My Drive/Summarizer/Summarizer_v2/model_step_148000.pt'\n",
            "'/content/Summarizer_v2/Select_Site.py' -> '/content/drive/My Drive/Summarizer/Summarizer_v2/Select_Site.py'\n"
          ],
          "name": "stdout"
        }
      ]
    },
    {
      "cell_type": "code",
      "metadata": {
        "id": "Mc3kEf7-IlGX",
        "colab_type": "code",
        "colab": {
          "base_uri": "https://localhost:8080/",
          "height": 36
        },
        "outputId": "60cefc24-a06c-4113-ebbd-bc2ad3567d7c"
      },
      "source": [
        "pwd"
      ],
      "execution_count": 30,
      "outputs": [
        {
          "output_type": "execute_result",
          "data": {
            "application/vnd.google.colaboratory.intrinsic": {
              "type": "string"
            },
            "text/plain": [
              "'/content/drive/My Drive/Summarizer_v2'"
            ]
          },
          "metadata": {
            "tags": []
          },
          "execution_count": 30
        }
      ]
    },
    {
      "cell_type": "code",
      "metadata": {
        "id": "I1N8wGZkwBS6",
        "colab_type": "code",
        "colab": {
          "base_uri": "https://localhost:8080/",
          "height": 36
        },
        "outputId": "f8a9cc46-1c1c-4a5a-b434-a6853df71241"
      },
      "source": [
        "cd Summarizer_v2/"
      ],
      "execution_count": 2,
      "outputs": [
        {
          "output_type": "stream",
          "text": [
            "/content/Summarizer_v2\n"
          ],
          "name": "stdout"
        }
      ]
    },
    {
      "cell_type": "code",
      "metadata": {
        "id": "CLW62B2GdAdw",
        "colab_type": "code",
        "colab": {
          "base_uri": "https://localhost:8080/",
          "height": 36
        },
        "outputId": "4b378103-e446-423a-8026-d6696b9a4707"
      },
      "source": [
        "from google.colab import drive\n",
        "drive.mount('/content/drive',force_remount=True)"
      ],
      "execution_count": 27,
      "outputs": [
        {
          "output_type": "stream",
          "text": [
            "Mounted at /content/drive\n"
          ],
          "name": "stdout"
        }
      ]
    },
    {
      "cell_type": "code",
      "metadata": {
        "id": "tFxh2HRGumNa",
        "colab_type": "code",
        "colab": {}
      },
      "source": [
        ""
      ],
      "execution_count": null,
      "outputs": []
    }
  ]
}